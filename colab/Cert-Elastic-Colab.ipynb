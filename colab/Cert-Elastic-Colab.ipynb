{
 "cells": [
  {
   "cell_type": "markdown",
   "id": "d501a905",
   "metadata": {},
   "source": [
    "# Cert-Elastic on Google Colab\n",
    "\n",
    "このノートブックは、Google Drive にプロジェクトを配置して Colab 上で VS Code と同等の手順で実行できるようにしたものです。GPU を有効化してから実行してください。\n",
    "\n",
    "- 実行対象: `run_evaluate_cert.py`（ログ計測＋要約）\n",
    "- 保存先: Google Drive (`/content/drive/MyDrive/Cert-Elastic`) 配下に成果物を永続化\n",
    "- モデル: 省メモリのためデフォルトで 4bit 量子化を推奨します（Colab T4 / L4 でも動作）"
   ]
  },
  {
   "cell_type": "code",
   "execution_count": null,
   "id": "20dfcf9f",
   "metadata": {},
   "outputs": [],
   "source": [
    "# This file will be replaced by the notebook editor"
   ]
  },
  {
   "cell_type": "markdown",
   "id": "e126d763",
   "metadata": {},
   "source": [
    "## 1) 必要ライブラリとGPUの確認\n",
    "以下で Python/Pip バージョンと GPU を確認します。"
   ]
  },
  {
   "cell_type": "code",
   "execution_count": null,
   "id": "ac305c8d",
   "metadata": {},
   "outputs": [],
   "source": [
    "!python -V\n",
    "!pip -V\n",
    "!nvidia-smi || echo \"No NVIDIA GPU\"\n",
    "\n",
    "import torch, platform\n",
    "print(\"torch:\", torch.__version__)\n",
    "print(\"cuda available:\", torch.cuda.is_available())\n",
    "print(\"python:\", platform.python_version())"
   ]
  },
  {
   "cell_type": "markdown",
   "id": "6dff2d5e",
   "metadata": {},
   "source": [
    "## 2) Google Drive のマウント\n",
    "Drive をマウントして、プロジェクトのルートパスを設定します。"
   ]
  },
  {
   "cell_type": "code",
   "execution_count": null,
   "id": "3a2109ae",
   "metadata": {},
   "outputs": [],
   "source": [
    "from google.colab import drive\n",
    "import os, pathlib\n",
    "\n",
    "drive.mount('/content/drive')\n",
    "DRIVE_ROOT = '/content/drive/MyDrive'\n",
    "PROJECT_NAME = 'Cert-Elastic'\n",
    "PROJECT_DIR = f'{DRIVE_ROOT}/{PROJECT_NAME}'\n",
    "print('PROJECT_DIR =', PROJECT_DIR)\n",
    "\n",
    "# HF cache to Drive to persist models between sessions\n",
    "os.environ['HF_HOME'] = f'{DRIVE_ROOT}/.cache/huggingface'\n",
    "os.environ['HF_DATASETS_CACHE'] = f'{DRIVE_ROOT}/.cache/huggingface/datasets'\n",
    "os.environ['TRANSFORMERS_CACHE'] = f'{DRIVE_ROOT}/.cache/huggingface/hub'\n",
    "pathlib.Path(os.environ['HF_HOME']).mkdir(parents=True, exist_ok=True)"
   ]
  },
  {
   "cell_type": "markdown",
   "id": "cc39d519",
   "metadata": {},
   "source": [
    "## 3) Drive 内にプロジェクト用フォルダを作成\n",
    "既存ならスキップされます。出力やログの保存先も合わせて作成します。"
   ]
  },
  {
   "cell_type": "code",
   "execution_count": null,
   "id": "f8371796",
   "metadata": {},
   "outputs": [],
   "source": [
    "import os\n",
    "from datetime import datetime\n",
    "\n",
    "SUBDIRS = ['src', 'data', 'outputs', 'models', 'logs', 'runs']\n",
    "for sd in SUBDIRS:\n",
    "    os.makedirs(f'{PROJECT_DIR}/{sd}', exist_ok=True)\n",
    "print('created:', [f'{PROJECT_DIR}/{sd}' for sd in SUBDIRS])"
   ]
  },
  {
   "cell_type": "markdown",
   "id": "2cd4876a",
   "metadata": {},
   "source": [
    "## 4) リポジトリの取得 or 手元のZIP配置\n",
    "- 公開GitHub: git clone（下の例ではダミーURLなので必要に応じて変更）\n",
    "- 既に PC から Drive に `Cert-Elastic` フォルダをコピー済みならこのセルはスキップしてOK"
   ]
  },
  {
   "cell_type": "code",
   "execution_count": null,
   "id": "2e1ebc79",
   "metadata": {},
   "outputs": [],
   "source": [
    "# いずれかを利用（既に Drive にコピー済みなら不要）\n",
    "# !git clone --depth 1 https://github.com/yourname/Cert-Elastic.git /content/Cert-Elastic\n",
    "# !unzip -o /content/Cert-Elastic.zip -d /content/\n",
    "# !rsync -a /content/Cert-Elastic/ \"$PROJECT_DIR/\""
   ]
  },
  {
   "cell_type": "markdown",
   "id": "fe17329c",
   "metadata": {},
   "source": [
    "## 5) 依存関係のインストール\n",
    "`requirements.txt` と PyTorch をインストールします。Colab GPU は Linux なので `bitsandbytes` も利用可能です。"
   ]
  },
  {
   "cell_type": "code",
   "execution_count": null,
   "id": "c20b15c2",
   "metadata": {},
   "outputs": [],
   "source": [
    "%cd \"$PROJECT_DIR\"\n",
    "!python -m pip install -U pip wheel setuptools\n",
    "# Colab の CUDA に合う公式 index から torch を導入（バージョンは適宜）\n",
    "!pip install --index-url https://download.pytorch.org/whl/cu124 torch torchvision torchaudio\n",
    "\n",
    "# プロジェクトの依存\n",
    "!pip install -r requirements.txt\n",
    "\n",
    "import torch\n",
    "print('torch:', torch.__version__, 'cuda available:', torch.cuda.is_available())"
   ]
  },
  {
   "cell_type": "markdown",
   "id": "d9a4a4cc",
   "metadata": {},
   "source": [
    "## 6) システム依存のインストール（必要時）\n",
    "このプロジェクトでは通常不要です。必要になった場合のみ以下を利用してください。"
   ]
  },
  {
   "cell_type": "code",
   "execution_count": null,
   "id": "35ea7513",
   "metadata": {},
   "outputs": [],
   "source": [
    "# 例:\n",
    "# !apt-get update -y && apt-get install -y libgl1 libglib2.0-0 graphviz"
   ]
  },
  {
   "cell_type": "markdown",
   "id": "1c9c450b",
   "metadata": {},
   "source": [
    "## 7) PYTHONPATH と作業ディレクトリの設定\n",
    "ノートブックからローカルパッケージ `cert_elastic` を import 可能にします。"
   ]
  },
  {
   "cell_type": "code",
   "execution_count": null,
   "id": "f8542378",
   "metadata": {},
   "outputs": [],
   "source": [
    "%cd \"$PROJECT_DIR\"\n",
    "import sys, os\n",
    "if PROJECT_DIR not in sys.path:\n",
    "    sys.path.insert(0, PROJECT_DIR)\n",
    "print(sys.path[:3])\n",
    "\n",
    "# import テスト\n",
    "try:\n",
    "    import cert_elastic\n",
    "    print('cert_elastic imported:', cert_elastic.__file__)\n",
    "except Exception as e:\n",
    "    print('import error:', e)"
   ]
  },
  {
   "cell_type": "markdown",
   "id": "530ed702",
   "metadata": {},
   "source": [
    "## 8) 環境変数・.env の設定（任意）\n",
    "Hugging Face Hub のトークンなどが必要な場合に設定します。"
   ]
  },
  {
   "cell_type": "code",
   "execution_count": null,
   "id": "de092539",
   "metadata": {},
   "outputs": [],
   "source": [
    "import os\n",
    "# 例: os.environ['HF_TOKEN'] = 'hf_XXXXXXXXXXXXXXXX'\n",
    "# from huggingface_hub import login\n",
    "# login(token=os.environ['HF_TOKEN'])"
   ]
  },
  {
   "cell_type": "markdown",
   "id": "1c0bcdd9",
   "metadata": {},
   "source": [
    "## 9) データセットのダウンロード/配置（任意）\n",
    "本プロジェクトではサンプルプロンプトのみなので省略可。外部データが必要になったらここで準備してください。"
   ]
  },
  {
   "cell_type": "markdown",
   "id": "04cd7d37",
   "metadata": {},
   "source": [
    "## 10) テスト（任意）\n",
    "テストがある場合はここで実行します。現状このリポジトリにはテストはありません。"
   ]
  },
  {
   "cell_type": "markdown",
   "id": "cc500fa2",
   "metadata": {},
   "source": [
    "## 11) アプリ/スクリプトの実行\n",
    "`run_evaluate_cert.py` を Colab 向けの低メモリ設定で実行します。"
   ]
  },
  {
   "cell_type": "code",
   "execution_count": null,
   "id": "27c134fb",
   "metadata": {},
   "outputs": [],
   "source": [
    "%cd \"$PROJECT_DIR\"\n",
    "\n",
    "# 軽量化のデフォルト（Colab向け）\n",
    "MODEL_ID = 'mistralai/Mistral-7B-Instruct-v0.3'\n",
    "DTYPE = 'float16'          # または 'bfloat16'\n",
    "LOAD_IN_4BIT = 1           # 4bit 量子化を推奨\n",
    "ATNN_IMPL = 'eager'\n",
    "MAX_NEW_TOKENS = 64\n",
    "EVAL_PROMPTS_N = 10\n",
    "RUN_FAST = 1               # 簡易速度計測をON\n",
    "\n",
    "!python run_evaluate_cert.py \\\n",
    "  --model_id {MODEL_ID} \\\n",
    "  --dtype {DTYPE} \\\n",
    "  --load_in_4bit {LOAD_IN_4BIT} \\\n",
    "  --attn_impl {ATNN_IMPL} \\\n",
    "  --max_new_tokens {MAX_NEW_TOKENS} \\\n",
    "  --eval_prompts_n {EVAL_PROMPTS_N} \\\n",
    "  --run_fast {RUN_FAST} \\\n",
    "  --out_dir runs"
   ]
  },
  {
   "cell_type": "markdown",
   "id": "8acf0820",
   "metadata": {},
   "source": [
    "## 12) 実行結果の保存とDriveへの永続化\n",
    "`runs/` 以下に生成された最新の run ディレクトリを参照し、主要ファイルを表示します。"
   ]
  },
  {
   "cell_type": "code",
   "execution_count": null,
   "id": "9356a0f5",
   "metadata": {},
   "outputs": [],
   "source": [
    "import json, glob, os\n",
    "from pathlib import Path\n",
    "\n",
    "%cd \"$PROJECT_DIR\"\n",
    "run_dirs = sorted(glob.glob('runs/run_*'))\n",
    "print('runs found:', run_dirs[-3:])\n",
    "if run_dirs:\n",
    "    latest = run_dirs[-1]\n",
    "    print('latest run:', latest)\n",
    "    for f in ['config.eval.json','results.logging.json','summary.json','cert_checks.csv']:\n",
    "        p = Path(latest)/f\n",
    "        if p.exists():\n",
    "            print(f'--- {p} (head) ---')\n",
    "            if p.suffix == '.json':\n",
    "                print(json.dumps(json.loads(p.read_text()) if p.read_text() else {}, ensure_ascii=False)[:1000])\n",
    "            else:\n",
    "                print('\\n'.join(p.read_text().splitlines()[:10]))\n",
    "        else:\n",
    "            print(f'{p} not found')"
   ]
  },
  {
   "cell_type": "markdown",
   "id": "c8a34c54",
   "metadata": {},
   "source": [
    "## 13) セッション再開用の短縮セル\n",
    "再接続時は以下のみ実行すればすぐ再開できます。"
   ]
  },
  {
   "cell_type": "code",
   "execution_count": null,
   "id": "5ed09418",
   "metadata": {},
   "outputs": [],
   "source": [
    "from google.colab import drive\n",
    "import os, sys\n",
    "\n",
    "drive.mount('/content/drive', force_remount=False)\n",
    "DRIVE_ROOT = '/content/drive/MyDrive'\n",
    "PROJECT_NAME = 'Cert-Elastic'\n",
    "PROJECT_DIR = f'{DRIVE_ROOT}/{PROJECT_NAME}'\n",
    "%cd \"$PROJECT_DIR\"\n",
    "if PROJECT_DIR not in sys.path:\n",
    "    sys.path.insert(0, PROJECT_DIR)\n",
    "\n",
    "# ここからすぐ 11) を実行可能"
   ]
  }
 ],
 "metadata": {
  "language_info": {
   "name": "python"
  }
 },
 "nbformat": 4,
 "nbformat_minor": 5
}
